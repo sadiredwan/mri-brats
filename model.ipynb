{
 "cells": [
  {
   "cell_type": "code",
   "execution_count": null,
   "metadata": {},
   "outputs": [],
   "source": [
    "import os\n",
    "import pickle\n",
    "import numpy as np\n",
    "import tensorflow as tf\n",
    "from tensorflow import keras\n",
    "from keras import backend as K\n",
    "from keras.models import *\n",
    "from keras.layers import *\n",
    "from datagenerator import *\n",
    "from metrics import *\n",
    "from keras.callbacks import CSVLogger\n",
    "np.set_printoptions(precision=3, suppress=True)"
   ]
  },
  {
   "cell_type": "code",
   "execution_count": null,
   "metadata": {},
   "outputs": [],
   "source": [
    "def build_unet(inputs, ker_init, dropout):\n",
    "    conv1 = Conv2D(32, 3, activation='relu', padding='same', kernel_initializer=ker_init)(inputs)\n",
    "    conv1 = Conv2D(32, 3, activation='relu', padding='same', kernel_initializer=ker_init)(conv1)\n",
    "    pool = MaxPooling2D(pool_size=(2, 2))(conv1)\n",
    "    conv = Conv2D(64, 3, activation='relu', padding='same', kernel_initializer=ker_init)(pool)\n",
    "    conv = Conv2D(64, 3, activation='relu', padding='same', kernel_initializer=ker_init)(conv)\n",
    "    pool1 = MaxPooling2D(pool_size=(2, 2))(conv)\n",
    "    conv2 = Conv2D(128, 3, activation='relu', padding='same', kernel_initializer=ker_init)(pool1)\n",
    "    conv2 = Conv2D(128, 3, activation='relu', padding='same', kernel_initializer=ker_init)(conv2)\n",
    "    pool2 = MaxPooling2D(pool_size=(2, 2))(conv2)\n",
    "    conv3 = Conv2D(256, 3, activation='relu', padding='same', kernel_initializer=ker_init)(pool2)\n",
    "    conv3 = Conv2D(256, 3, activation='relu', padding='same', kernel_initializer=ker_init)(conv3)\n",
    "    pool4 = MaxPooling2D(pool_size=(2, 2))(conv3)\n",
    "    conv5 = Conv2D(512, 3, activation='relu', padding='same', kernel_initializer=ker_init)(pool4)\n",
    "    conv5 = Conv2D(512, 3, activation='relu', padding='same', kernel_initializer=ker_init)(conv5)\n",
    "    drop5 = Dropout(dropout)(conv5)\n",
    "    up7 = Conv2D(256, 2, activation='relu', padding='same', kernel_initializer=ker_init)(UpSampling2D(size=(2, 2))(drop5))\n",
    "    merge7 = concatenate([conv3,up7], axis=3)\n",
    "    conv7 = Conv2D(256, 3, activation='relu', padding='same', kernel_initializer=ker_init)(merge7)\n",
    "    conv7 = Conv2D(256, 3, activation='relu', padding='same', kernel_initializer=ker_init)(conv7)\n",
    "    up8 = Conv2D(128, 2, activation='relu', padding='same', kernel_initializer=ker_init)(UpSampling2D(size=(2, 2))(conv7))\n",
    "    merge8 = concatenate([conv2,up8], axis=3)\n",
    "    conv8 = Conv2D(128, 3, activation='relu', padding='same', kernel_initializer=ker_init)(merge8)\n",
    "    conv8 = Conv2D(128, 3, activation='relu', padding='same', kernel_initializer=ker_init)(conv8)\n",
    "    up9 = Conv2D(64, 2, activation='relu', padding='same', kernel_initializer=ker_init)(UpSampling2D(size=(2, 2))(conv8))\n",
    "    merge9 = concatenate([conv,up9], axis=3)\n",
    "    conv9 = Conv2D(64, 3, activation='relu', padding='same', kernel_initializer=ker_init)(merge9)\n",
    "    conv9 = Conv2D(64, 3, activation='relu', padding='same', kernel_initializer=ker_init)(conv9)\n",
    "    up = Conv2D(32, 2, activation='relu', padding='same', kernel_initializer=ker_init)(UpSampling2D(size=(2, 2))(conv9))\n",
    "    merge = concatenate([conv1,up], axis=3)\n",
    "    conv = Conv2D(32, 3, activation='relu', padding='same', kernel_initializer=ker_init)(merge)\n",
    "    conv = Conv2D(32, 3, activation='relu', padding='same', kernel_initializer=ker_init)(conv)\n",
    "    conv10 = Conv2D(4, (1, 1), activation='softmax')(conv)\n",
    "    return Model(inputs=inputs, outputs=conv10)"
   ]
  },
  {
   "cell_type": "code",
   "execution_count": null,
   "metadata": {},
   "outputs": [],
   "source": [
    "input_layer = Input((IMG_SIZE, IMG_SIZE, 2))\n",
    "model = build_unet(input_layer, 'he_normal', 0.2)\n",
    "model.compile(loss='categorical_crossentropy',\n",
    "              optimizer=keras.optimizers.Adam(learning_rate=0.001),\n",
    "              metrics=['accuracy',\n",
    "                       tf.keras.metrics.MeanIoU(num_classes=4),\n",
    "                       dice_coef,\n",
    "                       precision,\n",
    "                       sensitivity,\n",
    "                       specificity,\n",
    "                       dice_coef_necrotic,\n",
    "                       dice_coef_edema,\n",
    "                       dice_coef_enhancing])"
   ]
  },
  {
   "cell_type": "code",
   "execution_count": null,
   "metadata": {},
   "outputs": [],
   "source": [
    "def dir_to_ids(dir_list):\n",
    "    x = []\n",
    "    for i in range(0, len(dir_list)):\n",
    "        x.append(dir_list[i][dir_list[i].rfind('/')+1:])\n",
    "    return x"
   ]
  },
  {
   "cell_type": "code",
   "execution_count": null,
   "metadata": {},
   "outputs": [],
   "source": [
    "train_ids = dir_to_ids(os.listdir('data/train/'))\n",
    "valid_ids = dir_to_ids(os.listdir('data/valid/'))\n",
    "train_generator = DataGenerator('data/train/', train_ids)\n",
    "valid_generator = DataGenerator('data/valid/', valid_ids)"
   ]
  },
  {
   "cell_type": "code",
   "execution_count": null,
   "metadata": {},
   "outputs": [],
   "source": [
    "csv_logger = CSVLogger('log/training.log', separator=',', append=False)\n",
    "callbacks = [keras.callbacks.ReduceLROnPlateau(monitor='val_loss',\n",
    "                                               factor=0.2,\n",
    "                                               patience=2,\n",
    "                                               min_lr=0.000001,\n",
    "                                               verbose=1), csv_logger]\n",
    "K.clear_session()\n",
    "history = model.fit(train_generator,\n",
    "                     epochs=1,\n",
    "                     steps_per_epoch=len(train_ids),\n",
    "                     callbacks=callbacks,\n",
    "                     validation_data=valid_generator)\n",
    "model.save('model/unet_v1.h5')\n",
    "pickle.dump(history, open('history/history.pkl', 'wb'))"
   ]
  }
 ],
 "metadata": {
  "kernelspec": {
   "display_name": "Python 3.10.8 ('eeg')",
   "language": "python",
   "name": "python3"
  },
  "language_info": {
   "codemirror_mode": {
    "name": "ipython",
    "version": 3
   },
   "file_extension": ".py",
   "mimetype": "text/x-python",
   "name": "python",
   "nbconvert_exporter": "python",
   "pygments_lexer": "ipython3",
   "version": "3.10.8 | packaged by conda-forge | (main, Nov  4 2022, 13:42:51) [MSC v.1916 64 bit (AMD64)]"
  },
  "orig_nbformat": 4,
  "vscode": {
   "interpreter": {
    "hash": "6c5d414a469e5f94d9b2cc91440f137574f5dee04513972a75d0756fd1e634aa"
   }
  }
 },
 "nbformat": 4,
 "nbformat_minor": 2
}
