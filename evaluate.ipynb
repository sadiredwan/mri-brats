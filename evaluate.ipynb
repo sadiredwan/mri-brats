{
 "cells": [
  {
   "cell_type": "code",
   "execution_count": 1,
   "metadata": {},
   "outputs": [],
   "source": [
    "import os\n",
    "from tensorflow import keras\n",
    "from datagenerator import *\n",
    "from metrics import *\n",
    "from keras.models import load_model\n",
    "from keras.callbacks import CSVLogger"
   ]
  },
  {
   "cell_type": "code",
   "execution_count": 2,
   "metadata": {},
   "outputs": [],
   "source": [
    "def dir_to_ids(dir_list):\n",
    "    x = []\n",
    "    for i in range(0, len(dir_list)):\n",
    "        x.append(dir_list[i][dir_list[i].rfind('/')+1:])\n",
    "    return x"
   ]
  },
  {
   "cell_type": "code",
   "execution_count": 3,
   "metadata": {},
   "outputs": [],
   "source": [
    "custom_objects = {'specificity': specificity,\n",
    "                  'sensitivity': sensitivity,\n",
    "                  'dice_coef': dice_coef,\n",
    "                  'dice_coef_necrotic': dice_coef_necrotic,\n",
    "                  'dice_coef_enhancing': dice_coef_enhancing,\n",
    "                  'dice_coef_edema': dice_coef_edema,\n",
    "                  'precision': precision}\n",
    "model = load_model('model/unet_v1.h5', custom_objects=custom_objects, compile=True)"
   ]
  },
  {
   "cell_type": "code",
   "execution_count": 4,
   "metadata": {},
   "outputs": [],
   "source": [
    "test = dir_to_ids(os.listdir('data/test/'))\n",
    "test_generator = DataGenerator('data/test/', test)"
   ]
  },
  {
   "cell_type": "code",
   "execution_count": 5,
   "metadata": {},
   "outputs": [],
   "source": [
    "csv_logger = CSVLogger('log/test.log', separator=',', append=False)\n",
    "callbacks = [keras.callbacks.ReduceLROnPlateau(monitor='val_loss',\n",
    "                                               factor=0.2,\n",
    "                                               patience=2,\n",
    "                                               min_lr=0.000001,\n",
    "                                               verbose=1), csv_logger]"
   ]
  },
  {
   "cell_type": "code",
   "execution_count": 6,
   "metadata": {},
   "outputs": [
    {
     "name": "stdout",
     "output_type": "stream",
     "text": [
      "125/125 [==============================] - 1478s 12s/step - loss: 0.0467 - accuracy: 0.9849 - mean_io_u: 0.4093 - dice_coef: 0.3520 - precision: 0.9908 - sensitivity: 0.9804 - specificity: 0.9968 - dice_coef_necrotic: 0.2162 - dice_coef_edema: 0.3347 - dice_coef_enhancing: 0.2603\n"
     ]
    }
   ],
   "source": [
    "results = model.evaluate(test_generator, batch_size=10, callbacks=callbacks)"
   ]
  }
 ],
 "metadata": {
  "kernelspec": {
   "display_name": "Python 3.10.8 ('eeg')",
   "language": "python",
   "name": "python3"
  },
  "language_info": {
   "codemirror_mode": {
    "name": "ipython",
    "version": 3
   },
   "file_extension": ".py",
   "mimetype": "text/x-python",
   "name": "python",
   "nbconvert_exporter": "python",
   "pygments_lexer": "ipython3",
   "version": "3.10.8 | packaged by conda-forge | (main, Nov  4 2022, 13:42:51) [MSC v.1916 64 bit (AMD64)]"
  },
  "orig_nbformat": 4,
  "vscode": {
   "interpreter": {
    "hash": "6c5d414a469e5f94d9b2cc91440f137574f5dee04513972a75d0756fd1e634aa"
   }
  }
 },
 "nbformat": 4,
 "nbformat_minor": 2
}
